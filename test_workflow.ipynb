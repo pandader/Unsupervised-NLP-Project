{
 "cells": [
  {
   "cell_type": "code",
   "execution_count": 1,
   "metadata": {},
   "outputs": [],
   "source": [
    "import os\n",
    "import pandas as pd\n",
    "# torch\n",
    "import torch\n",
    "# local\n",
    "from utilities import get_device\n",
    "from backend import SentenceTransformer, SplitEngine, Groupper, KeywordExtractor"
   ]
  },
  {
   "cell_type": "code",
   "execution_count": 2,
   "metadata": {},
   "outputs": [],
   "source": [
    "PATH = 'data'\n",
    "FILE_DATA = 'sample_data.csv'\n",
    "FILE_EMB = 'all_doc_emb.pt'\n",
    "DEVICE = get_device()\n",
    "LOAD_EMB_FROM_FILES = True\n",
    "RANDOM_SEED = 42"
   ]
  },
  {
   "cell_type": "markdown",
   "metadata": {},
   "source": [
    "## Data Loading"
   ]
  },
  {
   "cell_type": "code",
   "execution_count": 3,
   "metadata": {},
   "outputs": [
    {
     "name": "stdout",
     "output_type": "stream",
     "text": [
      "There are 30 pre-defined labels.\n"
     ]
    }
   ],
   "source": [
    "### load data\n",
    "df_data = pd.read_csv(os.path.join(PATH, FILE_DATA)) # label_text | label_id won't show up in the real data (this is just our benchmark)\n",
    "df_labels = pd.DataFrame(df_data[df_data.pre_defined].label_text.unique().tolist(), columns=['label_text']).rename_axis('label_id').reset_index()\n",
    "df_labels['label_id'] += 1 # labeling starts from 1\n",
    "print(f'There are {len(df_labels)} pre-defined labels.')"
   ]
  },
  {
   "cell_type": "markdown",
   "metadata": {},
   "source": [
    "## Workflow"
   ]
  },
  {
   "cell_type": "markdown",
   "metadata": {},
   "source": [
    "<p align=\"left\">\n",
    "  <img src=\"images\\workflow.png\"/>\n",
    "</p>"
   ]
  },
  {
   "cell_type": "markdown",
   "metadata": {},
   "source": [
    "### 1. Embedding"
   ]
  },
  {
   "cell_type": "code",
   "execution_count": 4,
   "metadata": {},
   "outputs": [],
   "source": [
    "### initialize sentence transformer moel\n",
    "model_st = SentenceTransformer(device=DEVICE)\n",
    "# encode pre defined labels\n",
    "label_embs = model_st.encode(df_labels.label_text.values.tolist())\n",
    "# encode all documents\n",
    "doc_embs = model_st.encode(df_data.text.values.tolist()) if not LOAD_EMB_FROM_FILES else torch.load(os.path.join(PATH, FILE_EMB))\n",
    "# torch.save(doc_embs, os.path.join(PATH, FILE_EMB))"
   ]
  },
  {
   "cell_type": "markdown",
   "metadata": {},
   "source": [
    "### 2. Splitting"
   ]
  },
  {
   "cell_type": "code",
   "execution_count": 5,
   "metadata": {},
   "outputs": [
    {
     "name": "stderr",
     "output_type": "stream",
     "text": [
      "c:\\Unsupervised NLP Project\\backend\\split_engine.py:99: FutureWarning: The frame.append method is deprecated and will be removed from pandas in a future version. Use pandas.concat instead.\n",
      "  self.df_assigned = df_assigned.append(pd.DataFrame(container, columns=df_assigned.columns))\n"
     ]
    }
   ],
   "source": [
    "split_agent = SplitEngine(df_data, df_labels, doc_embs, label_embs, threshold=0.65, label_red=False, min_samples=5)\n",
    "df_assigned, df_not_assigned_pre = split_agent.run()"
   ]
  },
  {
   "cell_type": "markdown",
   "metadata": {},
   "source": [
    "### 3. Grouping"
   ]
  },
  {
   "cell_type": "code",
   "execution_count": 6,
   "metadata": {},
   "outputs": [],
   "source": [
    "### groupping\n",
    "groupper = Groupper(df_not_assigned_pre, doc_embs, {'n_clusters' : 19})\n",
    "df_not_assigned = groupper.run()"
   ]
  },
  {
   "cell_type": "code",
   "execution_count": null,
   "metadata": {},
   "outputs": [],
   "source": [
    "### plotting\n",
    "groupper.plot()"
   ]
  },
  {
   "cell_type": "markdown",
   "metadata": {},
   "source": [
    "### 4. Merge \\& Key Word Extraction"
   ]
  },
  {
   "cell_type": "code",
   "execution_count": 7,
   "metadata": {},
   "outputs": [],
   "source": [
    "kwExtractor = KeywordExtractor(df_assigned, df_not_assigned, 10)\n",
    "kwExtractor.run()\n",
    "df_kw_summary = kwExtractor.get_topics_and_docs(df_data, 5)"
   ]
  },
  {
   "cell_type": "markdown",
   "metadata": {},
   "source": [
    "### 5. Llama Representation Learning"
   ]
  },
  {
   "cell_type": "code",
   "execution_count": 65,
   "metadata": {},
   "outputs": [
    {
     "data": {
      "text/html": [
       "<div>\n",
       "<style scoped>\n",
       "    .dataframe tbody tr th:only-of-type {\n",
       "        vertical-align: middle;\n",
       "    }\n",
       "\n",
       "    .dataframe tbody tr th {\n",
       "        vertical-align: top;\n",
       "    }\n",
       "\n",
       "    .dataframe thead th {\n",
       "        text-align: right;\n",
       "    }\n",
       "</style>\n",
       "<table border=\"1\" class=\"dataframe\">\n",
       "  <thead>\n",
       "    <tr style=\"text-align: right;\">\n",
       "      <th></th>\n",
       "      <th>label_id</th>\n",
       "      <th>index</th>\n",
       "      <th>text</th>\n",
       "      <th>count</th>\n",
       "    </tr>\n",
       "  </thead>\n",
       "  <tbody>\n",
       "    <tr>\n",
       "      <th>0</th>\n",
       "      <td>0</td>\n",
       "      <td>[34, 51, 101, 119, 120, 121, 142, 143, 195, 19...</td>\n",
       "      <td>[please list active alarms, set an alarm for t...</td>\n",
       "      <td>174.0</td>\n",
       "    </tr>\n",
       "    <tr>\n",
       "      <th>1</th>\n",
       "      <td>1</td>\n",
       "      <td>[11366, 2082, 300, 10790, 1564]</td>\n",
       "      <td>[change the lights to a different hue, change ...</td>\n",
       "      <td>5.0</td>\n",
       "    </tr>\n",
       "    <tr>\n",
       "      <th>2</th>\n",
       "      <td>2</td>\n",
       "      <td>[2823, 155, 9578, 1689, 1684]</td>\n",
       "      <td>[olly it's too bright in here can you turn a l...</td>\n",
       "      <td>5.0</td>\n",
       "    </tr>\n",
       "  </tbody>\n",
       "</table>\n",
       "</div>"
      ],
      "text/plain": [
       "   label_id                                              index  \\\n",
       "0         0  [34, 51, 101, 119, 120, 121, 142, 143, 195, 19...   \n",
       "1         1                    [11366, 2082, 300, 10790, 1564]   \n",
       "2         2                      [2823, 155, 9578, 1689, 1684]   \n",
       "\n",
       "                                                text  count  \n",
       "0  [please list active alarms, set an alarm for t...  174.0  \n",
       "1  [change the lights to a different hue, change ...    5.0  \n",
       "2  [olly it's too bright in here can you turn a l...    5.0  "
      ]
     },
     "execution_count": 65,
     "metadata": {},
     "output_type": "execute_result"
    }
   ],
   "source": [
    "### TODO"
   ]
  }
 ],
 "metadata": {
  "kernelspec": {
   "display_name": "base",
   "language": "python",
   "name": "python3"
  },
  "language_info": {
   "codemirror_mode": {
    "name": "ipython",
    "version": 3
   },
   "file_extension": ".py",
   "mimetype": "text/x-python",
   "name": "python",
   "nbconvert_exporter": "python",
   "pygments_lexer": "ipython3",
   "version": "3.9.13"
  }
 },
 "nbformat": 4,
 "nbformat_minor": 2
}
