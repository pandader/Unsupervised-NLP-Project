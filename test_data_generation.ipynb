{
 "cells": [
  {
   "cell_type": "code",
   "execution_count": 6,
   "metadata": {},
   "outputs": [],
   "source": [
    "import os\n",
    "import re\n",
    "import random\n",
    "import numpy as np\n",
    "import pandas as pd"
   ]
  },
  {
   "cell_type": "code",
   "execution_count": 7,
   "metadata": {},
   "outputs": [],
   "source": [
    "PATH = r\"G:\\My Drive\\Colab Notebooks\\data\\amazon\""
   ]
  },
  {
   "cell_type": "code",
   "execution_count": 50,
   "metadata": {},
   "outputs": [
    {
     "name": "stdout",
     "output_type": "stream",
     "text": [
      "There are 16521 samples in total, and 60 unique labels.\n"
     ]
    }
   ],
   "source": [
    "### load data\n",
    "df_col = []\n",
    "for post_fix in ['train', 'valid', 'test']:\n",
    "    df_col.append(pd.read_csv(os.path.join(PATH, f'amazon_{post_fix}.csv'))[['text', 'label_text']])\n",
    "df_data = pd.concat(df_col)\n",
    "# remove the underscore _ in labels (maybe no need because bert tokenizer is smart)\n",
    "df_data.label_text = df_data.label_text.apply(lambda x: x.replace('_', ' '))\n",
    "# add label_id column\n",
    "df_data['label_id'] = pd.factorize(df_data['label_text'])[0] + 1\n",
    "print(f'There are {len(df_data)} samples in total, and {len(df_data.label_id.unique())} unique labels.')\n",
    "# house-keeping [remove not-used data from cache]\n",
    "del df_col"
   ]
  },
  {
   "cell_type": "code",
   "execution_count": 38,
   "metadata": {},
   "outputs": [
    {
     "name": "stdout",
     "output_type": "stream",
     "text": [
      "Number of sample per class: 275.35.\n"
     ]
    },
    {
     "data": {
      "text/html": [
       "<div>\n",
       "<style scoped>\n",
       "    .dataframe tbody tr th:only-of-type {\n",
       "        vertical-align: middle;\n",
       "    }\n",
       "\n",
       "    .dataframe tbody tr th {\n",
       "        vertical-align: top;\n",
       "    }\n",
       "\n",
       "    .dataframe thead th {\n",
       "        text-align: right;\n",
       "    }\n",
       "</style>\n",
       "<table border=\"1\" class=\"dataframe\">\n",
       "  <thead>\n",
       "    <tr style=\"text-align: right;\">\n",
       "      <th></th>\n",
       "      <th>label_id</th>\n",
       "      <th>counts</th>\n",
       "    </tr>\n",
       "  </thead>\n",
       "  <tbody>\n",
       "    <tr>\n",
       "      <th>count</th>\n",
       "      <td>60.000000</td>\n",
       "      <td>60.000000</td>\n",
       "    </tr>\n",
       "    <tr>\n",
       "      <th>mean</th>\n",
       "      <td>30.500000</td>\n",
       "      <td>275.350000</td>\n",
       "    </tr>\n",
       "    <tr>\n",
       "      <th>std</th>\n",
       "      <td>17.464249</td>\n",
       "      <td>253.817352</td>\n",
       "    </tr>\n",
       "    <tr>\n",
       "      <th>min</th>\n",
       "      <td>1.000000</td>\n",
       "      <td>6.000000</td>\n",
       "    </tr>\n",
       "    <tr>\n",
       "      <th>25%</th>\n",
       "      <td>15.750000</td>\n",
       "      <td>114.750000</td>\n",
       "    </tr>\n",
       "    <tr>\n",
       "      <th>50%</th>\n",
       "      <td>30.500000</td>\n",
       "      <td>183.000000</td>\n",
       "    </tr>\n",
       "    <tr>\n",
       "      <th>75%</th>\n",
       "      <td>45.250000</td>\n",
       "      <td>315.500000</td>\n",
       "    </tr>\n",
       "    <tr>\n",
       "      <th>max</th>\n",
       "      <td>60.000000</td>\n",
       "      <td>1150.000000</td>\n",
       "    </tr>\n",
       "  </tbody>\n",
       "</table>\n",
       "</div>"
      ],
      "text/plain": [
       "        label_id       counts\n",
       "count  60.000000    60.000000\n",
       "mean   30.500000   275.350000\n",
       "std    17.464249   253.817352\n",
       "min     1.000000     6.000000\n",
       "25%    15.750000   114.750000\n",
       "50%    30.500000   183.000000\n",
       "75%    45.250000   315.500000\n",
       "max    60.000000  1150.000000"
      ]
     },
     "execution_count": 38,
     "metadata": {},
     "output_type": "execute_result"
    }
   ],
   "source": [
    "### some statistics\n",
    "df_stats = df_data[['label_id']].value_counts().reset_index(name='counts')\n",
    "print(f'Number of sample per class: {df_stats.counts.mean()}.')\n",
    "df_stats.describe()"
   ]
  },
  {
   "cell_type": "code",
   "execution_count": 51,
   "metadata": {},
   "outputs": [
    {
     "name": "stdout",
     "output_type": "stream",
     "text": [
      "There are 13039 samples in total, and 49 unique labels.\n"
     ]
    }
   ],
   "source": [
    "### remove classes that has less than 100 samples\n",
    "threshold = 100\n",
    "label_ids = set(df_stats[df_stats.counts < threshold].label_id.values)\n",
    "# notice, we are overriding the org data\n",
    "# create a new variable takes extra memory\n",
    "df_data = df_data[~df_data.label_id.isin(label_ids)] \n",
    "df_data['label_id'] = pd.factorize(df_data['label_text'])[0] + 1\n",
    "num_labels = len(df_data.label_id.unique())\n",
    "print(f'There are {len(df_data)} samples in total, and {num_labels} unique labels.')"
   ]
  },
  {
   "cell_type": "code",
   "execution_count": 77,
   "metadata": {},
   "outputs": [],
   "source": [
    "### select 30 pre-defined labels\n",
    "random.seed(42)\n",
    "k = 30\n",
    "sampled_labels = random.sample(range(1, num_labels+1), k)\n",
    "df_data['pre_defined'] = df_data.label_id.apply(lambda x: True if x in sampled_labels else False)"
   ]
  },
  {
   "cell_type": "code",
   "execution_count": 81,
   "metadata": {},
   "outputs": [],
   "source": [
    "### export\n",
    "df_data.to_csv('data/sample_data.csv', index=False)"
   ]
  }
 ],
 "metadata": {
  "kernelspec": {
   "display_name": "base",
   "language": "python",
   "name": "python3"
  },
  "language_info": {
   "codemirror_mode": {
    "name": "ipython",
    "version": 3
   },
   "file_extension": ".py",
   "mimetype": "text/x-python",
   "name": "python",
   "nbconvert_exporter": "python",
   "pygments_lexer": "ipython3",
   "version": "3.9.13"
  }
 },
 "nbformat": 4,
 "nbformat_minor": 2
}
